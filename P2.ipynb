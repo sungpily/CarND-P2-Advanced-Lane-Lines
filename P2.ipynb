{
 "cells": [
  {
   "cell_type": "markdown",
   "metadata": {},
   "source": [
    "## Advanced Lane Finding Project\n",
    "\n",
    "The goals / steps of this project are the following:\n",
    "\n",
    "* Compute the camera calibration matrix and distortion coefficients given a set of chessboard images.\n",
    "* Apply a distortion correction to raw images.\n",
    "* Use color transforms, gradients, etc., to create a thresholded binary image.\n",
    "* Apply a perspective transform to rectify binary image (\"birds-eye view\").\n",
    "* Detect lane pixels and fit to find the lane boundary.\n",
    "* Determine the curvature of the lane and vehicle position with respect to center.\n",
    "* Warp the detected lane boundaries back onto the original image.\n",
    "* Output visual display of the lane boundaries and numerical estimation of lane curvature and vehicle position."
   ]
  },
  {
   "cell_type": "code",
   "execution_count": 1,
   "metadata": {},
   "outputs": [],
   "source": [
    "# import modules\n",
    "import glob\n",
    "\n",
    "from IPython.display import HTML\n",
    "import cv2\n",
    "import matplotlib.pyplot as plt\n",
    "from moviepy.editor import VideoFileClip\n",
    "import numpy as np\n",
    "\n",
    "%matplotlib qt"
   ]
  },
  {
   "cell_type": "markdown",
   "metadata": {},
   "source": [
    "## Previous Project"
   ]
  },
  {
   "cell_type": "code",
   "execution_count": 2,
   "metadata": {},
   "outputs": [],
   "source": [
    "def grayscale(img):\n",
    "    \"\"\"Applies the Grayscale transform\n",
    "    This will return an image with only one color channel\n",
    "    but NOTE: to see the returned image as grayscale\n",
    "    (assuming your grayscaled image is called 'gray')\n",
    "    you should call plt.imshow(gray, cmap='gray')\"\"\"\n",
    "    return cv2.cvtColor(img, cv2.COLOR_RGB2GRAY)\n",
    "    # Or use BGR2GRAY if you read an image with cv2.imread()\n",
    "    # return cv2.cvtColor(img, cv2.COLOR_BGR2GRAY)\n",
    "    \n",
    "def canny(img, low_threshold, high_threshold):\n",
    "    \"\"\"Applies the Canny transform\"\"\"\n",
    "    return cv2.Canny(img, low_threshold, high_threshold)\n",
    "\n",
    "def gaussian_blur(img, kernel_size):\n",
    "    \"\"\"Applies a Gaussian Noise kernel\"\"\"\n",
    "    return cv2.GaussianBlur(img, (kernel_size, kernel_size), 0)\n",
    "\n",
    "def region_of_interest(img, vertices):\n",
    "    \"\"\"\n",
    "    Applies an image mask.\n",
    "    \n",
    "    Only keeps the region of the image defined by the polygon\n",
    "    formed from `vertices`. The rest of the image is set to black.\n",
    "    `vertices` should be a numpy array of integer points.\n",
    "    \"\"\"\n",
    "    #defining a blank mask to start with\n",
    "    mask = np.zeros_like(img)   \n",
    "    \n",
    "    #defining a 3 channel or 1 channel color to fill the mask with depending on the input image\n",
    "    if len(img.shape) > 2:\n",
    "        channel_count = img.shape[2]  # i.e. 3 or 4 depending on your image\n",
    "        ignore_mask_color = (255,) * channel_count\n",
    "    else:\n",
    "        ignore_mask_color = 255\n",
    "        \n",
    "    #filling pixels inside the polygon defined by \"vertices\" with the fill color    \n",
    "    cv2.fillPoly(mask, vertices, ignore_mask_color)\n",
    "    \n",
    "    #returning the image only where mask pixels are nonzero\n",
    "    masked_image = cv2.bitwise_and(img, mask)\n",
    "    return masked_image\n",
    "\n",
    "\n",
    "def draw_lines(img, lines, color=[255, 0, 0], thickness=2):\n",
    "    slope_threshold = 0.4    \n",
    "    imshape = img.shape\n",
    "    \n",
    "    # Find out left lanes and right lanes\n",
    "    \n",
    "    left_lines, right_lines = [], []\n",
    "    slope_left_lines, slope_right_lines = [], []\n",
    "    b_left_lines, b_right_lines = [], []\n",
    "    \n",
    "    for ind, line in enumerate(lines):\n",
    "        for x1, y1, x2, y2 in line:\n",
    "            dx = x2 - x1\n",
    "            if dx == 0: # to avoid infinite slope\n",
    "                dx = 1\n",
    "                \n",
    "            dy = y2 - y1\n",
    "            slope = dy/dx\n",
    "            b = y1 - slope*x1\n",
    "            \n",
    "            # Filter out lines with wrong inclination\n",
    "            if -slope_threshold < slope < slope_threshold:\n",
    "                continue\n",
    "                \n",
    "            # Filter out lines with wrong bottom intersection\n",
    "            xb = (imshape[0] - b)/slope\n",
    "            if xb < 0 or xb > imshape[1]:\n",
    "                continue\n",
    "                \n",
    "            # Group left and right lines\n",
    "            if slope < 0:\n",
    "                left_lines.append(line[0].tolist())\n",
    "                slope_left_lines.append(slope)\n",
    "                b_left_lines.append(b)\n",
    "            else:\n",
    "                right_lines.append(line[0].tolist())\n",
    "                slope_right_lines.append(slope)\n",
    "                b_right_lines.append(b)\n",
    "\n",
    "    # Remove outliers based on slope and b values\n",
    "    \n",
    "    def remove_outliers(lines, slope_list, b_list):\n",
    "        if len(lines) == 0:\n",
    "            return []\n",
    "        \n",
    "        avg_slope = np.mean(slope_list)\n",
    "        std_slope = np.std(slope_list)\n",
    "        avg_b = np.mean(b_list)\n",
    "        std_b = np.std(b_list)\n",
    "        new_lines = []\n",
    "        for slope, b, line in zip(slope_list, b_list, lines):\n",
    "            if slope < avg_slope - std_slope or slope > avg_slope + std_slope:\n",
    "                continue\n",
    "                \n",
    "            if b < avg_b - std_b or b > avg_b + std_b:\n",
    "                continue\n",
    "                \n",
    "            new_lines.append(line)\n",
    "                \n",
    "        return new_lines\n",
    "    \n",
    "    left_lines = remove_outliers(left_lines, slope_left_lines, b_left_lines)\n",
    "    right_lines = remove_outliers(right_lines, slope_right_lines, b_right_lines)\n",
    "\n",
    "    # Form one line\n",
    "    \n",
    "    def form_one_line(lines, slope_list, b_list):\n",
    "        if len(lines) == 0:\n",
    "            return []\n",
    "        \n",
    "        y_list = [y1 for x1, y1, x2, y2 in lines]\n",
    "        y_list.extend([y2 for x1, y1, x2, y2 in lines])\n",
    "        top_y = min(y_list)\n",
    "        avg_slope = np.mean(slope_list)\n",
    "        avg_b = np.mean(b_list)\n",
    "        top_x = int(round((top_y - avg_b)/avg_slope))\n",
    "        bottom_x = int(round((imshape[0] - avg_b)/avg_slope))\n",
    "        \n",
    "        return [[bottom_x, imshape[0], top_x, top_y]]\n",
    "    \n",
    "    left_lines = form_one_line(left_lines, slope_left_lines, b_left_lines)\n",
    "    right_lines = form_one_line(right_lines, slope_right_lines, b_right_lines)\n",
    "\n",
    "    lines = left_lines\n",
    "    lines.extend(right_lines)\n",
    "\n",
    "    len_lines = len(lines)\n",
    "    \n",
    "    lines = np.array(lines).reshape(len_lines, 1, 4)\n",
    "\n",
    "    for line in lines:\n",
    "        for x1,y1,x2,y2 in line:\n",
    "            cv2.line(img, (x1, y1), (x2, y2), color, thickness)\n",
    "\n",
    "def hough_lines(img, rho, theta, threshold, min_line_len, max_line_gap):\n",
    "    \"\"\"\n",
    "    `img` should be the output of a Canny transform.\n",
    "        \n",
    "    Returns an image with hough lines drawn.\n",
    "    \"\"\"\n",
    "    lines = cv2.HoughLinesP(img, rho, theta, threshold, np.array([]), minLineLength=min_line_len, maxLineGap=max_line_gap)\n",
    "    line_img = np.zeros((img.shape[0], img.shape[1], 3), dtype=np.uint8)\n",
    "    draw_lines(line_img, lines, thickness=10)\n",
    "    return line_img\n",
    "    \n",
    "# Python 3 has support for cool math symbols.\n",
    "\n",
    "def weighted_img(img, initial_img, α=0.8, β=1., γ=0.):\n",
    "    \"\"\"\n",
    "    `img` is the output of the hough_lines(), An image with lines drawn on it.\n",
    "    Should be a blank image (all black) with lines drawn on it.\n",
    "    \n",
    "    `initial_img` should be the image before any processing.\n",
    "    \n",
    "    The result image is computed as follows:\n",
    "    \n",
    "    initial_img * α + img * β + γ\n",
    "    NOTE: initial_img and img must be the same shape!\n",
    "    \"\"\"\n",
    "    return cv2.addWeighted(initial_img, α, img, β, γ)"
   ]
  },
  {
   "cell_type": "code",
   "execution_count": 3,
   "metadata": {},
   "outputs": [],
   "source": [
    "def process_image(image):\n",
    "    # NOTE: The output you return should be a color image (3 channel) for processing video below\n",
    "    # TODO: put your pipeline here,\n",
    "    # you should return the final output (image where lines are drawn on lanes)\n",
    "\n",
    "    # Step 1: convert the image to gray scale\n",
    "    gray_image = grayscale(image)\n",
    "    \n",
    "    # Step 2: apply gaussian_blur to smooth the image\n",
    "    blur_image = gaussian_blur(gray_image, 5)\n",
    "    \n",
    "    # Step 3: apply Canny edge detection algorithm\n",
    "    edge_image = canny(blur_image, 50, 150)\n",
    "\n",
    "    # Step 4: apply mask filter\n",
    "    imshape = image.shape\n",
    "    vertices = np.array([[(20,imshape[0]),(imshape[1]/2-50, imshape[0]/2+60), (imshape[1]/2+50, imshape[0]/2+60), (imshape[1]-20,imshape[0])]], dtype=np.int32)\n",
    "    mask_image = region_of_interest(edge_image, vertices)\n",
    "\n",
    "    # Step 5: find lines using Hough transform\n",
    "    hough_image = hough_lines(mask_image, 2, np.pi/180, 20, 50, 30)\n",
    "    \n",
    "    # Merge detected lines to the original image\n",
    "    merg_image = weighted_img(hough_image, image)\n",
    "\n",
    "    result = merg_image\n",
    "\n",
    "    return result"
   ]
  },
  {
   "cell_type": "code",
   "execution_count": 4,
   "metadata": {},
   "outputs": [
    {
     "name": "stdout",
     "output_type": "stream",
     "text": [
      "[MoviePy] >>>> Building video test_videos/project_video_out.mp4\n",
      "[MoviePy] Writing video test_videos/project_video_out.mp4\n"
     ]
    },
    {
     "name": "stderr",
     "output_type": "stream",
     "text": [
      " 99%|█████████▉| 100/101 [00:08<00:00,  8.37it/s]\n"
     ]
    },
    {
     "name": "stdout",
     "output_type": "stream",
     "text": [
      "[MoviePy] Done.\n",
      "[MoviePy] >>>> Video ready: test_videos/project_video_out.mp4 \n",
      "\n",
      "CPU times: user 2.32 s, sys: 157 ms, total: 2.47 s\n",
      "Wall time: 11.8 s\n"
     ]
    }
   ],
   "source": [
    "#clip1 = VideoFileClip(\"test_videos/project_video.mp4\")\n",
    "clip1 = VideoFileClip(\"test_videos/project_video.mp4\").subclip(1,5)\n",
    "white_output = 'test_videos/project_video_out.mp4'\n",
    "white_clip = clip1.fl_image(process_image) #NOTE: this function expects color images!!\n",
    "%time white_clip.write_videofile(white_output, audio=False)"
   ]
  },
  {
   "cell_type": "code",
   "execution_count": 5,
   "metadata": {},
   "outputs": [
    {
     "data": {
      "text/html": [
       "\n",
       "<video width=\"960\" height=\"540\" controls>\n",
       "  <source src=\"test_videos/project_video_out.mp4\">\n",
       "</video>\n"
      ],
      "text/plain": [
       "<IPython.core.display.HTML object>"
      ]
     },
     "execution_count": 5,
     "metadata": {},
     "output_type": "execute_result"
    }
   ],
   "source": [
    "HTML(\"\"\"\n",
    "<video width=\"960\" height=\"540\" controls>\n",
    "  <source src=\"{0}\">\n",
    "</video>\n",
    "\"\"\".format(white_output))"
   ]
  },
  {
   "cell_type": "markdown",
   "metadata": {},
   "source": [
    "## Step 1: Camera Calibration Using Chessboard Images"
   ]
  },
  {
   "cell_type": "code",
   "execution_count": 6,
   "metadata": {},
   "outputs": [
    {
     "name": "stdout",
     "output_type": "stream",
     "text": [
      "camera_cal/calibration01.jpg\n",
      "camera_cal/calibration02.jpg\n",
      "camera_cal/calibration02_pts.jpg\n",
      "camera_cal/calibration03.jpg\n",
      "camera_cal/calibration03_pts.jpg\n",
      "camera_cal/calibration04.jpg\n",
      "camera_cal/calibration05.jpg\n",
      "camera_cal/calibration06.jpg\n",
      "camera_cal/calibration06_pts.jpg\n",
      "camera_cal/calibration07.jpg\n",
      "camera_cal/calibration07_pts.jpg\n",
      "camera_cal/calibration08.jpg\n",
      "camera_cal/calibration08_pts.jpg\n",
      "camera_cal/calibration09.jpg\n",
      "camera_cal/calibration09_pts.jpg\n",
      "camera_cal/calibration10.jpg\n",
      "camera_cal/calibration10_pts.jpg\n",
      "camera_cal/calibration11.jpg\n",
      "camera_cal/calibration11_pts.jpg\n",
      "camera_cal/calibration12.jpg\n",
      "camera_cal/calibration12_pts.jpg\n",
      "camera_cal/calibration13.jpg\n",
      "camera_cal/calibration13_pts.jpg\n",
      "camera_cal/calibration14.jpg\n",
      "camera_cal/calibration14_pts.jpg\n",
      "camera_cal/calibration15.jpg\n",
      "camera_cal/calibration15_pts.jpg\n",
      "camera_cal/calibration16.jpg\n",
      "camera_cal/calibration16_pts.jpg\n",
      "camera_cal/calibration17.jpg\n",
      "camera_cal/calibration17_pts.jpg\n",
      "camera_cal/calibration18.jpg\n",
      "camera_cal/calibration18_pts.jpg\n",
      "camera_cal/calibration19.jpg\n",
      "camera_cal/calibration19_pts.jpg\n",
      "camera_cal/calibration20.jpg\n",
      "camera_cal/calibration20_pts.jpg\n"
     ]
    }
   ],
   "source": [
    "# prepare object points, like (0,0,0), (1,0,0), (2,0,0) ....,(6,5,0)\n",
    "objp = np.zeros((6*9,3), np.float32)\n",
    "objp[:,:2] = np.mgrid[0:9,0:6].T.reshape(-1,2)\n",
    "\n",
    "# Arrays to store object points and image points from all the images.\n",
    "objpoints = [] # 3d points in real world space\n",
    "imgpoints = [] # 2d points in image plane.\n",
    "\n",
    "# Make a list of calibration images\n",
    "images = glob.glob('camera_cal/calibration??.jpg')\n",
    "images.sort()\n",
    "\n",
    "# Step through the list and search for chessboard corners\n",
    "for fname in images[:]:\n",
    "    print(fname)\n",
    "    img = cv2.imread(fname)\n",
    "    gray = cv2.cvtColor(img,cv2.COLOR_BGR2GRAY)\n",
    "\n",
    "    # Find the chessboard corners\n",
    "    ret, corners = cv2.findChessboardCorners(gray, (9,6),None)\n",
    "\n",
    "    # If found, add object points, image points\n",
    "    if ret == False:\n",
    "        continue\n",
    "        \n",
    "    objpoints.append(objp)\n",
    "    imgpoints.append(corners)\n",
    "\n",
    "    # Draw and display the corners\n",
    "    img = cv2.drawChessboardCorners(img, (9,6), corners, ret)\n",
    "\n",
    "    fname_out = fname[:-4] + \"_pts.jpg\"\n",
    "    print(fname_out)\n",
    "    cv2.imwrite(fname_out, img)"
   ]
  },
  {
   "cell_type": "markdown",
   "metadata": {},
   "source": [
    "## Step 2: Undistort the images"
   ]
  },
  {
   "cell_type": "code",
   "execution_count": 7,
   "metadata": {},
   "outputs": [
    {
     "name": "stdout",
     "output_type": "stream",
     "text": [
      "camera_cal/calibration01.jpg\n",
      "camera_cal/calibration02.jpg\n",
      "camera_cal/calibration03.jpg\n",
      "camera_cal/calibration04.jpg\n",
      "camera_cal/calibration05.jpg\n",
      "camera_cal/calibration06.jpg\n",
      "camera_cal/calibration07.jpg\n",
      "camera_cal/calibration08.jpg\n",
      "camera_cal/calibration09.jpg\n",
      "camera_cal/calibration10.jpg\n",
      "camera_cal/calibration11.jpg\n",
      "camera_cal/calibration12.jpg\n",
      "camera_cal/calibration13.jpg\n",
      "camera_cal/calibration14.jpg\n",
      "camera_cal/calibration15.jpg\n",
      "camera_cal/calibration16.jpg\n",
      "camera_cal/calibration17.jpg\n",
      "camera_cal/calibration18.jpg\n",
      "camera_cal/calibration19.jpg\n",
      "camera_cal/calibration20.jpg\n"
     ]
    }
   ],
   "source": [
    "# Make a list of original images\n",
    "images = glob.glob('camera_cal/calibration??.jpg')\n",
    "images.sort()\n",
    "\n",
    "def get_calibrate(objpoints, imgpoints, img_shape):\n",
    "    ret, mtx, dist, rvecs, tvecs = cv2.calibrateCamera(objpoints, imgpoints, img_shape, None, None)\n",
    "    return mtx, dist\n",
    "\n",
    "def get_undistort(img, mtx, dist):\n",
    "    dst = cv2.undistort(img, mtx, dist, None, mtx)\n",
    "    return dst\n",
    "\n",
    "img = cv2.imread(images[0])\n",
    "mtx, dist = get_calibrate(objpoints, imgpoints, img.shape[1::-1])\n",
    "\n",
    "for fname in images[:]:\n",
    "    print(fname)\n",
    "    img = cv2.imread(fname)\n",
    "    #dst_img, dist_mtx, dist_coef = cal_undistort(img, objpoints, imgpoints)\n",
    "    dst_img = get_undistort(img, mtx, dist)\n",
    "    fname_out = fname[:-4] + \"_und.jpg\"\n",
    "    cv2.imwrite(fname_out, dst_img)"
   ]
  },
  {
   "cell_type": "markdown",
   "metadata": {},
   "source": [
    "## Step 3 : Create Thresholded Binary Image"
   ]
  },
  {
   "cell_type": "code",
   "execution_count": 8,
   "metadata": {},
   "outputs": [
    {
     "name": "stdout",
     "output_type": "stream",
     "text": [
      "test_images/straight_lines1.jpg\n",
      "test_images/straight_lines2.jpg\n",
      "test_images/test1.jpg\n",
      "test_images/test2.jpg\n",
      "test_images/test3.jpg\n",
      "test_images/test4.jpg\n",
      "test_images/test5.jpg\n",
      "test_images/test6.jpg\n"
     ]
    }
   ],
   "source": [
    "def convert_thresh(img, sx_thresh=(20, 100), s_thresh=(170, 255), color=\"gray\"):\n",
    "    # Conver to HLS color space\n",
    "    hls_img = cv2.cvtColor(img, cv2.COLOR_BGR2HLS)\n",
    "    \n",
    "    # Sobel x\n",
    "    l_channel = hls_img[:, :, 1]\n",
    "    sobelx = cv2.Sobel(l_channel, cv2.CV_64F, 1, 0)\n",
    "    abs_sobelx = np.absolute(sobelx)\n",
    "    scaled_sobel = np.uint8(255 * abs_sobelx / np.max(abs_sobelx))\n",
    "    \n",
    "    # Threshold x gradient\n",
    "    sxbinary = np.zeros_like(scaled_sobel)\n",
    "    sxbinary[(scaled_sobel >= sx_thresh[0]) & (scaled_sobel < sx_thresh[1])] = 1\n",
    "    \n",
    "    # Threshold color channel\n",
    "    s_channel = hls_img[:, :, 2]\n",
    "    s_binary = np.zeros_like(s_channel)\n",
    "    s_binary[(s_channel >= s_thresh[0]) & (s_channel < s_thresh[1])] = 1\n",
    "    \n",
    "    # Stack each channel\n",
    "    if color == \"color\":\n",
    "        combined_binary = np.dstack((np.zeros_like(sxbinary), sxbinary, s_binary)) * 255\n",
    "    else:\n",
    "        tmp_binary = np.zeros_like(sxbinary)\n",
    "        tmp_binary[(sxbinary == 1) | (s_binary == 1)] = 1\n",
    "        tmp_binary = np.dstack((tmp_binary, tmp_binary, tmp_binary)) * 255\n",
    "        combined_binary = cv2.cvtColor(tmp_binary, cv2.COLOR_BGR2GRAY)\n",
    "    \n",
    "    return combined_binary\n",
    "    \n",
    "fnameL = glob.glob(\"test_images/test?.jpg\")\n",
    "fnameL.extend(glob.glob(\"test_images/straight_lines?.jpg\"))\n",
    "fnameL.sort()\n",
    "\n",
    "for fname in fnameL:\n",
    "    print(fname)\n",
    "    img = cv2.imread(fname)\n",
    "    und_img = get_undistort(img, mtx, dist)\n",
    "    thr_img = convert_thresh(und_img, color=\"color\")\n",
    "\n",
    "    fname_out = fname[:-4] + \"_thres.jpg\"\n",
    "    cv2.imwrite(fname_out, thr_img)"
   ]
  },
  {
   "cell_type": "markdown",
   "metadata": {},
   "source": [
    "## Step 4 : Perspective Transform"
   ]
  },
  {
   "cell_type": "code",
   "execution_count": 9,
   "metadata": {},
   "outputs": [
    {
     "data": {
      "text/plain": [
       "True"
      ]
     },
     "execution_count": 9,
     "metadata": {},
     "output_type": "execute_result"
    }
   ],
   "source": [
    "# Get list of undistorted images\n",
    "fname = \"test_images/straight_lines1.jpg\"\n",
    "\n",
    "# Read image\n",
    "img = cv2.imread(fname)\n",
    "und_img = get_undistort(img, mtx, dist)\n",
    "thr_img = convert_thresh(und_img, color=\"gray\")\n",
    "    \n",
    "img_size = thr_img.shape[1::-1]\n",
    "    \n",
    "# Find corners\n",
    "corner1 = (200, img_size[1])\n",
    "corner2 = (img_size[0]//2 - 57, img_size[1]//2+100)\n",
    "corner3 = (img_size[0]//2 + 60, img_size[1]//2+100)\n",
    "corner4 = (img_size[0] - 180, img_size[1])\n",
    "src_pts = np.float32([corner1, corner2, corner3, corner4])\n",
    "\n",
    "# Plot corner lines\n",
    "ori_thr_img = cv2.cvtColor(thr_img, cv2.COLOR_GRAY2BGR)\n",
    "cv2.line(ori_thr_img, corner1, corner2, (0, 0, 255), 3)\n",
    "cv2.line(ori_thr_img, corner2, corner3, (0, 0, 255), 3)\n",
    "cv2.line(ori_thr_img, corner3, corner4, (0, 0, 255), 3)\n",
    "\n",
    "fname_out = fname[:-4] + \"_corn.jpg\"\n",
    "cv2.imwrite(fname_out, ori_thr_img)\n",
    "\n",
    "# Compute transformation matrix\n",
    "offsetx = 300\n",
    "dst_pts = np.float32([[offsetx, img_size[1]],\n",
    "                      [offsetx, 0],\n",
    "                      [img_size[0] - offsetx, 0],\n",
    "                      [img_size[0] - offsetx, img_size[1]]])\n",
    "M = cv2.getPerspectiveTransform(src_pts, dst_pts)\n",
    "    \n",
    "# Transform the original image\n",
    "wrp_img = cv2.warpPerspective(thr_img, M, img_size)\n",
    "    \n",
    "fname_out = fname[:-4] + \"_warp.jpg\"\n",
    "cv2.imwrite(fname_out, wrp_img)"
   ]
  },
  {
   "cell_type": "markdown",
   "metadata": {},
   "source": [
    "## Step 5 : Find The Lane Boundary"
   ]
  },
  {
   "cell_type": "code",
   "execution_count": 10,
   "metadata": {},
   "outputs": [
    {
     "data": {
      "text/plain": [
       "True"
      ]
     },
     "execution_count": 10,
     "metadata": {},
     "output_type": "execute_result"
    }
   ],
   "source": [
    "\n",
    "def find_lane_boundary(img):\n",
    "    img_shape = img.shape[1::-1]\n",
    "\n",
    "    histogram = np.sum(img[img_shape[1]//2:, :], axis=0)\n",
    "\n",
    "    midpoint = img_shape[0]//2\n",
    "    leftx_base = np.argmax(histogram[:midpoint])\n",
    "    rightx_base = np.argmax(histogram[midpoint:]) + midpoint\n",
    "\n",
    "    out_img = np.dstack((img, img, img))\n",
    "\n",
    "    # Hyperparameters\n",
    "\n",
    "    nwindows = 9\n",
    "    margin = 100\n",
    "    minpix = 50\n",
    "\n",
    "    window_height = np.int(img_shape[1]//nwindows)\n",
    "\n",
    "    # Identify the x and y positions of all nonzero pixels in the image\n",
    "\n",
    "    nonzero = img.nonzero()\n",
    "    nonzeroy = np.array(nonzero[0])\n",
    "    nonzerox = np.array(nonzero[1])\n",
    "\n",
    "    leftx_current = leftx_base\n",
    "    rightx_current = rightx_base\n",
    "\n",
    "    left_lane_inds = []\n",
    "    right_lane_inds = []\n",
    "\n",
    "    for window in range(nwindows):\n",
    "        # Identify window boundaries in x and y\n",
    "        win_y_low = img_shape[1] - (window + 1) * window_height\n",
    "        win_y_high = img_shape[1] - window * window_height\n",
    "    \n",
    "        win_xleft_low = leftx_current - margin\n",
    "        win_xleft_high = leftx_current + margin\n",
    "        win_xright_low = rightx_current - margin\n",
    "        win_xright_high = rightx_current + margin\n",
    "    \n",
    "        # Draw the windows\n",
    "        cv2.rectangle(out_img, (win_xleft_low, win_y_low), (win_xleft_high, win_y_high), (0, 255, 0), 2)\n",
    "        cv2.rectangle(out_img, (win_xright_low, win_y_low), (win_xright_high, win_y_high), (0, 255, 0), 2)\n",
    "    \n",
    "        # Identify nonzero pixels within window\n",
    "        good_left_inds = ((nonzeroy >= win_y_low) & (nonzeroy < win_y_high) &\n",
    "                      (nonzerox >= win_xleft_low) & (nonzerox < win_xleft_high)).nonzero()[0]\n",
    "        good_right_inds = ((nonzeroy >= win_y_low) & (nonzeroy < win_y_high) &\n",
    "                       (nonzerox >= win_xright_low) & (nonzerox < win_xright_high)).nonzero()[0]\n",
    "    \n",
    "        # Append these indices to the lists\n",
    "        left_lane_inds.append(good_left_inds)\n",
    "        right_lane_inds.append(good_right_inds)\n",
    "    \n",
    "        # If there are more than minpix pixels, recenter the next window\n",
    "        if len(good_left_inds) > minpix:\n",
    "            leftx_current = np.int(np.mean(nonzerox[good_left_inds]))\n",
    "        if len(good_right_inds) > minpix:\n",
    "            rightx_current = np.int(np.mean(nonzerox[good_right_inds]))\n",
    "\n",
    "    left_lane_inds = np.concatenate(left_lane_inds)\n",
    "    right_lane_inds = np.concatenate(right_lane_inds)\n",
    "\n",
    "    # Extract left and right line pixel positions\n",
    "    leftx = nonzerox[left_lane_inds]\n",
    "    lefty = nonzeroy[left_lane_inds]\n",
    "    rightx = nonzerox[right_lane_inds]\n",
    "    righty = nonzeroy[right_lane_inds]\n",
    "\n",
    "    # Fit a second order polynomial\n",
    "    left_fit = np.polyfit(lefty, leftx, 2)\n",
    "    right_fit = np.polyfit(righty, rightx, 2)\n",
    "    \n",
    "    # Generate x and y for plotting\n",
    "    ploty = np.linspace(0, img_shape[1] - 1, img_shape[1])\n",
    "    left_fitx = left_fit[0] * ploty**2 + left_fit[1] * ploty + left_fit[2]\n",
    "    right_fitx = right_fit[0] * ploty**2 + right_fit[1] * ploty + right_fit[2]\n",
    "\n",
    "    # Plot left and right polynomial\n",
    "    for y, x in zip(ploty, left_fitx):\n",
    "        cv2.circle(out_img, (int(x), int(y)), 3, [0, 0, 255])\n",
    "    for y, x in zip(ploty, right_fitx):\n",
    "        cv2.circle(out_img, (int(x), int(y)), 3, [0, 0, 255])\n",
    "    \n",
    "    return left_fit, right_fit, out_img\n",
    "\n",
    "fname = \"test_images/straight_lines1_warp.jpg\"\n",
    "img = cv2.imread(fname, cv2.IMREAD_GRAYSCALE)\n",
    "img_shape = img.shape[1::-1]\n",
    "\n",
    "left_fit, right_fit, out_img = find_lane_boundary(img)\n",
    "\n",
    "#out_img[lefty, leftx] = [255, 0, 0]\n",
    "#out_img[righty, rightx] = [0, 0, 255]\n",
    "\n",
    "fname_out = fname[:-4] + \"_wind.jpg\"\n",
    "cv2.imwrite(fname_out, out_img)"
   ]
  },
  {
   "cell_type": "code",
   "execution_count": 19,
   "metadata": {},
   "outputs": [
    {
     "name": "stdout",
     "output_type": "stream",
     "text": [
      "[  5.41665804e-06   1.50090877e-02   2.94891682e+02]\n",
      "[  3.37500984e-05  -2.82560519e-02   9.87256689e+02]\n",
      "[ -3.86537296e-06   2.28646559e-02   2.93898569e+02]\n",
      "[  2.65386877e-05  -2.40892315e-02   9.86853713e+02]\n"
     ]
    },
    {
     "data": {
      "text/plain": [
       "True"
      ]
     },
     "execution_count": 19,
     "metadata": {},
     "output_type": "execute_result"
    }
   ],
   "source": [
    "def find_lane_boundary_with_line(img, left_fit, right_fit):\n",
    "    img_shape = img.shape[1::-1]\n",
    "\n",
    "#    histogram = np.sum(img[img_shape[1]//2:, :], axis=0)\n",
    "\n",
    "#    midpoint = img_shape[0]//2\n",
    "#    leftx_base = np.argmax(histogram[:midpoint])\n",
    "#    rightx_base = np.argmax(histogram[midpoint:]) + midpoint\n",
    "\n",
    "    out_img = np.dstack((img, img, img))\n",
    "\n",
    "    # Hyperparameters\n",
    "\n",
    "#    nwindows = 9\n",
    "    margin = 30\n",
    "#    minpix = 50\n",
    "\n",
    "#    window_height = np.int(img_shape[1]//nwindows)\n",
    "\n",
    "    # Identify the x and y positions of all nonzero pixels in the image\n",
    "\n",
    "    nonzero = img.nonzero()\n",
    "    nonzeroy = np.array(nonzero[0])\n",
    "    nonzerox = np.array(nonzero[1])\n",
    "\n",
    "#    leftx_current = leftx_base\n",
    "#    rightx_current = rightx_base\n",
    "\n",
    "    left_lane_inds = ((nonzerox > (left_fit[0]*(nonzeroy**2) + left_fit[1]*nonzeroy + \n",
    "                    left_fit[2] - margin)) & (nonzerox < (left_fit[0]*(nonzeroy**2) + \n",
    "                    left_fit[1]*nonzeroy + left_fit[2] + margin)))\n",
    "    right_lane_inds = ((nonzerox > (right_fit[0]*(nonzeroy**2) + right_fit[1]*nonzeroy + \n",
    "                    right_fit[2] - margin)) & (nonzerox < (right_fit[0]*(nonzeroy**2) + \n",
    "                    right_fit[1]*nonzeroy + right_fit[2] + margin)))\n",
    "\n",
    "    # Extract left and right line pixel positions\n",
    "    leftx = nonzerox[left_lane_inds]\n",
    "    lefty = nonzeroy[left_lane_inds]\n",
    "    rightx = nonzerox[right_lane_inds]\n",
    "    righty = nonzeroy[right_lane_inds]\n",
    "\n",
    "    # Fit a second order polynomial\n",
    "    left_fit = np.polyfit(lefty, leftx, 2)\n",
    "    right_fit = np.polyfit(righty, rightx, 2)\n",
    "    \n",
    "    # Generate x and y for plotting\n",
    "    ploty = np.linspace(0, img_shape[1] - 1, img_shape[1])\n",
    "    left_fitx = left_fit[0] * ploty**2 + left_fit[1] * ploty + left_fit[2]\n",
    "    right_fitx = right_fit[0] * ploty**2 + right_fit[1] * ploty + right_fit[2]\n",
    "\n",
    "    # Plot left and right polynomial\n",
    "    for y, x in zip(ploty, left_fitx):\n",
    "        cv2.circle(out_img, (int(x), int(y)), 3, [0, 0, 255])\n",
    "    for y, x in zip(ploty, right_fitx):\n",
    "        cv2.circle(out_img, (int(x), int(y)), 3, [0, 0, 255])\n",
    "    \n",
    "    return left_fit, right_fit, out_img\n",
    "\n",
    "fname = \"test_images/straight_lines1_warp.jpg\"\n",
    "img = cv2.imread(fname, cv2.IMREAD_GRAYSCALE)\n",
    "img_shape = img.shape[1::-1]\n",
    "\n",
    "print(left_fit)\n",
    "print(right_fit)\n",
    "left_fit, right_fit, out_img = find_lane_boundary_with_line(img, left_fit, right_fit)\n",
    "print(left_fit)\n",
    "print(right_fit)\n",
    "\n",
    "#out_img[lefty, leftx] = [255, 0, 0]\n",
    "#out_img[righty, rightx] = [0, 0, 255]\n",
    "\n",
    "fname_out = fname[:-4] + \"_wind.jpg\"\n",
    "cv2.imwrite(fname_out, out_img)"
   ]
  },
  {
   "cell_type": "markdown",
   "metadata": {},
   "source": [
    "## Step 6 : Determine the curvature of the lane and vehicle position with respect to center"
   ]
  },
  {
   "cell_type": "code",
   "execution_count": 20,
   "metadata": {},
   "outputs": [
    {
     "name": "stdout",
     "output_type": "stream",
     "text": [
      "41892.4484881\n",
      "6221.06736709\n"
     ]
    }
   ],
   "source": [
    "mx = 3.7/690\n",
    "my = 30/720\n",
    "\n",
    "def calculate_curvature(curve_fit, y, mx, my):\n",
    "    fit0 = mx/(my**2)*curve_fit[0]\n",
    "    fit1 = mx/my*curve_fit[1]\n",
    "    fit2 = mx*curve_fit[2]\n",
    "    \n",
    "    curvature = ((1 + (2 * fit0 * y + fit1)**2)**1.5)/abs(2 * fit0)\n",
    "    return curvature\n",
    "\n",
    "def calculate_vehicle_position(left_fit, right_fit):\n",
    "    pass\n",
    "\n",
    "print(calculate_curvature(left_fit, img_shape[1], mx, my))\n",
    "print(calculate_curvature(right_fit, img_shape[1], mx, my))"
   ]
  },
  {
   "cell_type": "markdown",
   "metadata": {},
   "source": [
    "## Step 7 : Warp the detected lane boundaries back onto the original image."
   ]
  },
  {
   "cell_type": "code",
   "execution_count": 21,
   "metadata": {},
   "outputs": [
    {
     "data": {
      "text/plain": [
       "True"
      ]
     },
     "execution_count": 21,
     "metadata": {},
     "output_type": "execute_result"
    }
   ],
   "source": [
    "def draw_lanes(img, left_fit, right_fit, M):\n",
    "    lane_wrp_img = np.zeros_like(img)\n",
    "    img_size = lane_wrp_img.shape[1::-1]\n",
    "    \n",
    "    # Generate x and y for plotting\n",
    "    ploty = np.linspace(0, img_shape[1] - 1, img_shape[1])\n",
    "    left_fitx = left_fit[0] * ploty**2 + left_fit[1] * ploty + left_fit[2]\n",
    "    right_fitx = right_fit[0] * ploty**2 + right_fit[1] * ploty + right_fit[2]\n",
    "\n",
    "    # Plot left and right polynomial\n",
    "    alpha_mask = np.zeros_like(lane_wrp_img)\n",
    "    for y, x in zip(ploty, left_fitx):\n",
    "        cv2.circle(lane_wrp_img, (int(x), int(y)), 10, [255, 0, 0])\n",
    "        cv2.circle(alpha_mask, (int(x), int(y)), 10, [255, 255, 255])\n",
    "    for y, x in zip(ploty, right_fitx):\n",
    "        cv2.circle(lane_wrp_img, (int(x), int(y)), 10, [255, 0, 0])\n",
    "        cv2.circle(alpha_mask, (int(x), int(y)), 10, [255, 255, 255])\n",
    "\n",
    "    lane_unw_img = cv2.warpPerspective(lane_wrp_img, M, img_shape, flags=cv2.WARP_INVERSE_MAP)\n",
    "    alpha_mask = cv2.warpPerspective(alpha_mask, M, img_shape, flags=cv2.WARP_INVERSE_MAP)\n",
    "    \n",
    "    # now use transparent mask (alpha blending)\n",
    "    # https://www.learnopencv.com/alpha-blending-using-opencv-cpp-python/\n",
    "    \n",
    "    alpha_mask = alpha_mask.astype(float)/255\n",
    "    foreground = cv2.multiply(alpha_mask, lane_unw_img.astype(float))\n",
    "    background = cv2.multiply(1.0 - alpha_mask, img.astype(float))\n",
    "    out_img = cv2.add(foreground, background)\n",
    "    \n",
    "    return out_img\n",
    "\n",
    "fname = \"test_images/straight_lines1.jpg\"\n",
    "img = cv2.imread(fname)\n",
    "\n",
    "und_img = get_undistort(img, mtx, dist)\n",
    "thr_img = convert_thresh(und_img)\n",
    "wrp_img = cv2.warpPerspective(thr_img, M, thr_img.shape[1::-1])\n",
    "left_fit, right_fit, out_img = find_lane_boundary(wrp_img)\n",
    "out_img = draw_lanes(img, left_fit, right_fit, M)\n",
    "\n",
    "cv2.imwrite(\"test_images/straight_lines1_final.jpg\", out_img)"
   ]
  },
  {
   "cell_type": "markdown",
   "metadata": {},
   "source": [
    "## Step 8 : Output visual display of the lane boundaries and numerical estimation of lane curvature and vehicle position."
   ]
  },
  {
   "cell_type": "markdown",
   "metadata": {},
   "source": [
    "## Put everything together"
   ]
  },
  {
   "cell_type": "code",
   "execution_count": 22,
   "metadata": {},
   "outputs": [],
   "source": [
    "def process_image_updated(img, left_fit=[None], right_fit=[None]):\n",
    "    und_img = get_undistort(img, mtx, dist)\n",
    "    thr_img = convert_thresh(und_img)\n",
    "    wrp_img = cv2.warpPerspective(thr_img, M, thr_img.shape[1::-1])\n",
    "    \n",
    "    if left_fit == [None]:\n",
    "        left_fit[0], right_fit[0], out_img = find_lane_boundary(wrp_img)\n",
    "    else:\n",
    "        left_fit[0], right_fit[0], out_img = find_lane_boundary_with_line(wrp_img, left_fit[0], right_fit[0])\n",
    "        \n",
    "    out_img = draw_lanes(img, left_fit[0], right_fit[0], M)\n",
    "\n",
    "    return out_img"
   ]
  },
  {
   "cell_type": "code",
   "execution_count": 25,
   "metadata": {},
   "outputs": [
    {
     "name": "stdout",
     "output_type": "stream",
     "text": [
      "[MoviePy] >>>> Building video test_videos/project_video_out_updated.mp4\n",
      "[MoviePy] Writing video test_videos/project_video_out_updated.mp4\n"
     ]
    },
    {
     "name": "stderr",
     "output_type": "stream",
     "text": [
      "100%|█████████▉| 1260/1261 [07:07<00:00,  2.96it/s]\n"
     ]
    },
    {
     "name": "stdout",
     "output_type": "stream",
     "text": [
      "[MoviePy] Done.\n",
      "[MoviePy] >>>> Video ready: test_videos/project_video_out_updated.mp4 \n",
      "\n",
      "CPU times: user 4min 9s, sys: 49 s, total: 4min 58s\n",
      "Wall time: 7min 10s\n"
     ]
    }
   ],
   "source": [
    "clip = VideoFileClip(\"test_videos/project_video.mp4\")\n",
    "#clip = VideoFileClip(\"test_videos/project_video.mp4\").subclip(22, 25)\n",
    "white_output = 'test_videos/project_video_out_updated.mp4'\n",
    "white_clip = clip.fl_image(process_image_updated) #NOTE: this function expects color images!!\n",
    "%time white_clip.write_videofile(white_output, audio=False)"
   ]
  },
  {
   "cell_type": "code",
   "execution_count": 26,
   "metadata": {},
   "outputs": [
    {
     "data": {
      "text/html": [
       "\n",
       "<video width=\"960\" height=\"540\" controls>\n",
       "  <source src=\"test_videos/project_video_out_updated.mp4\">\n",
       "</video>\n"
      ],
      "text/plain": [
       "<IPython.core.display.HTML object>"
      ]
     },
     "execution_count": 26,
     "metadata": {},
     "output_type": "execute_result"
    }
   ],
   "source": [
    "HTML(\"\"\"\n",
    "<video width=\"960\" height=\"540\" controls>\n",
    "  <source src=\"{0}\">\n",
    "</video>\n",
    "\"\"\".format(white_output))"
   ]
  },
  {
   "cell_type": "code",
   "execution_count": 27,
   "metadata": {},
   "outputs": [
    {
     "name": "stdout",
     "output_type": "stream",
     "text": [
      "[MoviePy] >>>> Building video test_videos/challenge_video_out_updated.mp4\n",
      "[MoviePy] Writing video test_videos/challenge_video_out_updated.mp4\n"
     ]
    },
    {
     "name": "stderr",
     "output_type": "stream",
     "text": [
      "100%|██████████| 485/485 [02:44<00:00,  2.86it/s]\n"
     ]
    },
    {
     "name": "stdout",
     "output_type": "stream",
     "text": [
      "[MoviePy] Done.\n",
      "[MoviePy] >>>> Video ready: test_videos/challenge_video_out_updated.mp4 \n",
      "\n",
      "CPU times: user 1min 32s, sys: 24.8 s, total: 1min 57s\n",
      "Wall time: 2min 47s\n"
     ]
    }
   ],
   "source": [
    "clip = VideoFileClip(\"test_videos/challenge_video.mp4\")\n",
    "white_output = 'test_videos/challenge_video_out_updated.mp4'\n",
    "white_clip = clip.fl_image(process_image_updated) #NOTE: this function expects color images!!\n",
    "%time white_clip.write_videofile(white_output, audio=False)"
   ]
  },
  {
   "cell_type": "code",
   "execution_count": 28,
   "metadata": {},
   "outputs": [
    {
     "data": {
      "text/html": [
       "\n",
       "<video width=\"960\" height=\"540\" controls>\n",
       "  <source src=\"test_videos/challenge_video_out_updated.mp4\">\n",
       "</video>\n"
      ],
      "text/plain": [
       "<IPython.core.display.HTML object>"
      ]
     },
     "execution_count": 28,
     "metadata": {},
     "output_type": "execute_result"
    }
   ],
   "source": [
    "HTML(\"\"\"\n",
    "<video width=\"960\" height=\"540\" controls>\n",
    "  <source src=\"{0}\">\n",
    "</video>\n",
    "\"\"\".format(white_output))"
   ]
  },
  {
   "cell_type": "code",
   "execution_count": null,
   "metadata": {},
   "outputs": [],
   "source": []
  }
 ],
 "metadata": {
  "anaconda-cloud": {},
  "kernelspec": {
   "display_name": "Python 3",
   "language": "python",
   "name": "python3"
  },
  "language_info": {
   "codemirror_mode": {
    "name": "ipython",
    "version": 3
   },
   "file_extension": ".py",
   "mimetype": "text/x-python",
   "name": "python",
   "nbconvert_exporter": "python",
   "pygments_lexer": "ipython3",
   "version": "3.6.3"
  }
 },
 "nbformat": 4,
 "nbformat_minor": 1
}
